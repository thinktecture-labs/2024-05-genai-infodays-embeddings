{
 "cells": [
  {
   "cell_type": "markdown",
   "metadata": {},
   "source": [
    "# Embeddings: Semantics of the language\n",
    "\n",
    "We have some sentences and want to compare the semantic distance of them.\n",
    "\n",
    "## 1. The data"
   ]
  },
  {
   "cell_type": "code",
   "execution_count": 4,
   "metadata": {},
   "outputs": [],
   "source": [
    "sentences = [\n",
    "    'Die Hunde spielen mit dem Ball auf der Wiese',\n",
    "    'Das Rudel rollt das runde Spielgerät auf dem Rasen herum',\n",
    "    'The dogs play with the ball on the grass',\n",
    "    'Der Ballon fliegt in den Himmel',\n",
    "    'Die Taube kehrt zum Nest zurück',\n",
    "]"
   ]
  },
  {
   "cell_type": "markdown",
   "metadata": {},
   "source": [
    "## 2. Create embeddings using Huggingface models\n",
    "\n",
    "Models can, for example, be found at the [https://huggingface.co/spaces/mteb/leaderboard](https://huggingface.co/spaces/mteb/leaderboard)"
   ]
  },
  {
   "cell_type": "code",
   "execution_count": 5,
   "metadata": {},
   "outputs": [
    {
     "name": "stdout",
     "output_type": "stream",
     "text": [
      "[ 0.03449271  0.00409269 -0.02714954 ... -0.00595034 -0.02732472\n",
      "  0.00877537]\n",
      "1024\n",
      "1024\n",
      "1024\n",
      "1024\n",
      "1024\n"
     ]
    }
   ],
   "source": [
    "from sentence_transformers import SentenceTransformer\n",
    "\n",
    "model_name = 'intfloat/multilingual-e5-large'\n",
    "embedding_model = SentenceTransformer(model_name)\n",
    "\n",
    "embeddings = embedding_model.encode(sentences)\n",
    "\n",
    "print(embeddings[0])\n",
    "for embedding in embeddings:\n",
    "    print(len(embedding))\n"
   ]
  },
  {
   "cell_type": "code",
   "execution_count": 6,
   "metadata": {},
   "outputs": [
    {
     "name": "stdout",
     "output_type": "stream",
     "text": [
      "1.0000: Die Hunde spielen mit dem Ball auf der Wiese <-> Die Hunde spielen mit dem Ball auf der Wiese\n",
      "0.8659: Die Hunde spielen mit dem Ball auf der Wiese <-> Das Rudel rollt das runde Spielgerät auf dem Rasen herum\n",
      "0.8993: Die Hunde spielen mit dem Ball auf der Wiese <-> The dogs play with the ball on the grass\n",
      "0.8146: Die Hunde spielen mit dem Ball auf der Wiese <-> Der Ballon fliegt in den Himmel\n",
      "0.7427: Die Hunde spielen mit dem Ball auf der Wiese <-> Die Taube kehrt zum Nest zurück\n",
      "1.0000: Das Rudel rollt das runde Spielgerät auf dem Rasen herum <-> Das Rudel rollt das runde Spielgerät auf dem Rasen herum\n",
      "0.8116: Das Rudel rollt das runde Spielgerät auf dem Rasen herum <-> The dogs play with the ball on the grass\n",
      "0.8299: Das Rudel rollt das runde Spielgerät auf dem Rasen herum <-> Der Ballon fliegt in den Himmel\n",
      "0.7906: Das Rudel rollt das runde Spielgerät auf dem Rasen herum <-> Die Taube kehrt zum Nest zurück\n",
      "1.0000: The dogs play with the ball on the grass <-> The dogs play with the ball on the grass\n",
      "0.7377: The dogs play with the ball on the grass <-> Der Ballon fliegt in den Himmel\n",
      "0.6611: The dogs play with the ball on the grass <-> Die Taube kehrt zum Nest zurück\n",
      "1.0000: Der Ballon fliegt in den Himmel <-> Der Ballon fliegt in den Himmel\n",
      "0.8201: Der Ballon fliegt in den Himmel <-> Die Taube kehrt zum Nest zurück\n",
      "1.0000: Die Taube kehrt zum Nest zurück <-> Die Taube kehrt zum Nest zurück\n"
     ]
    }
   ],
   "source": [
    "import numpy as np\n",
    "\n",
    "def cosine_similarity(left, right):\n",
    "    return np.dot(left, right) / (np.linalg.norm(left) * np.linalg.norm(right))\n",
    "\n",
    "for i, left in enumerate(sentences):\n",
    "    for j, right in enumerate(sentences):\n",
    "        if j < i:\n",
    "            continue\n",
    "        similarity = cosine_similarity(embeddings[i], embeddings[j])\n",
    "        print(f'{similarity:.4f}: {left} <-> {right}')\n"
   ]
  }
 ],
 "metadata": {
  "kernelspec": {
   "display_name": "01-semantics",
   "language": "python",
   "name": "python3"
  },
  "language_info": {
   "codemirror_mode": {
    "name": "ipython",
    "version": 3
   },
   "file_extension": ".py",
   "mimetype": "text/x-python",
   "name": "python",
   "nbconvert_exporter": "python",
   "pygments_lexer": "ipython3",
   "version": "3.9.5"
  }
 },
 "nbformat": 4,
 "nbformat_minor": 2
}
